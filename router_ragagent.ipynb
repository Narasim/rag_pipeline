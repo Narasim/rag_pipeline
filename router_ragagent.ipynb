{
 "cells": [
  {
   "cell_type": "code",
   "execution_count": 6,
   "id": "fceed8e1-8144-4128-a882-967be40b63a0",
   "metadata": {},
   "outputs": [],
   "source": [
    "import getpass\n",
    "import os\n",
    "from dotenv import load_dotenv"
   ]
  },
  {
   "cell_type": "code",
   "execution_count": 7,
   "id": "4e6cb12a-0b15-47a3-afdf-eb43c073e067",
   "metadata": {},
   "outputs": [],
   "source": [
    "load_dotenv()\n",
    "\n",
    "if not os.environ.get(\"OPENAI_API_KEY\"):\n",
    "  os.environ[\"OPENAI_API_KEY\"] = getpass.getpass(\"Enter API key for OpenAI: \")"
   ]
  },
  {
   "cell_type": "code",
   "execution_count": 8,
   "id": "aaadb9d3-f75e-4bd3-bbe2-ca09e9b93e64",
   "metadata": {},
   "outputs": [],
   "source": [
    "from langchain.chat_models import init_chat_model\n",
    "\n",
    "llm = init_chat_model(\"gpt-4o-mini\", model_provider=\"openai\")\n",
    "router_llm = init_chat_model(\"gpt-4o-mini\", model_provider=\"openai\")"
   ]
  },
  {
   "cell_type": "code",
   "execution_count": 9,
   "id": "8c12d0c0-2c17-419d-9e7b-bb83b9ad1537",
   "metadata": {},
   "outputs": [],
   "source": [
    "from langchain_openai import OpenAIEmbeddings\n",
    "\n",
    "embeddings = OpenAIEmbeddings(model=\"text-embedding-3-large\")"
   ]
  },
  {
   "cell_type": "code",
   "execution_count": 10,
   "id": "69153661-64bf-4a93-b859-cbfcbe809241",
   "metadata": {},
   "outputs": [],
   "source": [
    "from langchain_chroma import Chroma\n",
    "\n",
    "vector_store = Chroma(\n",
    "    collection_name=\"example_collection\",\n",
    "    embedding_function=embeddings,\n",
    "    persist_directory=\"./db\",  \n",
    ")"
   ]
  },
  {
   "cell_type": "code",
   "execution_count": 11,
   "id": "84418236-452f-46e3-af3e-5874a6f20462",
   "metadata": {},
   "outputs": [],
   "source": [
    "from langchain_community.document_loaders import PyMuPDFLoader\n",
    "from langchain_community.document_loaders import csv_loader\n",
    "from langchain_community.document_loaders import TextLoader\n",
    "pdf_docs_loaders = []\n",
    "text_docs_loaders = []\n",
    "\n",
    "data_directory = \"./assets\"\n",
    "file_list = os.listdir(data_directory)\n",
    "all_docs = []\n",
    "for file in file_list:\n",
    "    if str(file).endswith('.pdf'):\n",
    "        file_path = os.path.join(data_directory, file)\n",
    "        pdf_loader = PyMuPDFLoader(file_path)\n",
    "        pdf_docs_loaders.append(pdf_loader.load())\n",
    "    elif str(file).endswith(\".txt\"):\n",
    "        file_path = os.path.join(data_directory, file)\n",
    "        text_loader = TextLoader(file_path)\n",
    "        text_docs_loaders.append(text_loader.load())"
   ]
  },
  {
   "cell_type": "code",
   "execution_count": 12,
   "id": "14906e5b-a74a-4040-9cea-cef71f3fd230",
   "metadata": {},
   "outputs": [],
   "source": [
    "from langchain.text_splitter import RecursiveCharacterTextSplitter\n",
    "docs = []\n",
    "text_splitter = RecursiveCharacterTextSplitter(chunk_size = 1000, chunk_overlap = 200)\n",
    "for doc_loader in pdf_docs_loaders:\n",
    "    for doc in doc_loader:\n",
    "        docs.append(doc)\n",
    "for doc_loaders in text_docs_loaders:\n",
    "    for doc in doc_loaders:\n",
    "        docs.append(doc)\n",
    "docs = text_splitter.split_documents(documents = docs)"
   ]
  },
  {
   "cell_type": "code",
   "execution_count": 13,
   "id": "eee867a1-66fb-4c88-9673-49b3da6d5e7e",
   "metadata": {},
   "outputs": [
    {
     "data": {
      "text/plain": [
       "353"
      ]
     },
     "execution_count": 13,
     "metadata": {},
     "output_type": "execute_result"
    }
   ],
   "source": [
    "len(docs)"
   ]
  },
  {
   "cell_type": "code",
   "execution_count": 13,
   "id": "a51066e1-18d0-416f-963e-e5a1b269402d",
   "metadata": {},
   "outputs": [],
   "source": [
    "indices = vector_store.add_documents(documents = docs)"
   ]
  },
  {
   "cell_type": "code",
   "execution_count": 14,
   "id": "06d9978e-9864-4996-a3b8-50ae20add918",
   "metadata": {},
   "outputs": [],
   "source": [
    "from langchain_core.prompts import PromptTemplate\n",
    "base_model_prompt_template = PromptTemplate.from_template(\"\"\"\n",
    "        You are an expert in question answering regarding HDFC Life Smart Protect Plan.\n",
    "        You are given a query: {query} and its relevant information for answering.\n",
    "        relevant information :{similar_docs}\n",
    "        Answer the query with only relevant information.\n",
    "        Donot hallicunate, donot provide information beyond the context.\n",
    "        Make sure the response doesn't contain personal information such as names, contact and numbers.\n",
    "        Make sure not use any offensive words.\n",
    "\"\"\")\n",
    "\n",
    "\n",
    "router_prompt_template = PromptTemplate.from_template(\"\"\"\n",
    "Given the user's question, decide whether it is more appropriate to perform a RAG search\n",
    "or a web search. Respond with 'RAG' if the question can be answered from the provided\n",
    "documents (HDFC Life Smart Protect Plan), or 'WEB' if it requires external, up-to-date\n",
    "information or information beyond the scope of the HDFC Life Smart Protect Plan.\n",
    "\n",
    "Question: {question}\n",
    "Decision:\n",
    "\"\"\")"
   ]
  },
  {
   "cell_type": "code",
   "execution_count": 25,
   "id": "1f6e592f-0a7e-4bf9-9386-b446770dc5eb",
   "metadata": {},
   "outputs": [],
   "source": [
    "from langgraph.graph import START, StateGraph, END\n",
    "from typing_extensions import List, TypedDict\n",
    "from langchain_core.documents import Document\n",
    "\n",
    "\n",
    "class State(TypedDict):\n",
    "    question: str\n",
    "    context: List[Document]\n",
    "    answer: str\n",
    "    decision: str\n",
    "\n",
    "def router(state: State):\n",
    "    router_prompt = router_prompt_template.invoke({'question': state['question']})\n",
    "    decision = router_llm.invoke(router_prompt).content\n",
    "    return {'decision': decision}\n",
    "\n",
    "def retrieve_documents(state: State):\n",
    "    retrieved_docs = vector_store.similarity_search(state[\"question\"])\n",
    "    return {\"context\": retrieved_docs}\n",
    "\n",
    "\n",
    "def web_search(state: State):\n",
    "    # web_results = web_search_tool.invoke({\"query\": state[\"question\"]})\n",
    "    return {\"context\": [Document(page_content='Web Search')], \"answer\": 'web_results'} \n",
    "\n",
    "def generate_rag_response(state: State):\n",
    "    docs_content = \"\\n\\n\".join(doc.page_content for doc in state[\"context\"])\n",
    "    messages = base_model_prompt_template.invoke({\"query\": state[\"question\"], \"similar_docs\": docs_content})\n",
    "    response = llm.invoke(messages)\n",
    "    return {\"answer\": response.content}\n",
    "\n",
    "\n",
    "graph_builder = StateGraph(State)\n",
    "graph_builder.add_node(\"router\", router)\n",
    "graph_builder.add_node(\"retrieve_documents\", retrieve_documents)\n",
    "graph_builder.add_node(\"web_search\", web_search)\n",
    "graph_builder.add_node(\"generate_rag_response\", generate_rag_response)\n",
    "\n",
    "\n",
    "\n",
    "graph_builder.set_entry_point(\"router\")\n",
    "\n",
    "graph_builder.add_conditional_edges(\n",
    "    \"router\",\n",
    "    lambda state: state['decision'],\n",
    "    {\n",
    "        \"RAG\": \"retrieve_documents\",\n",
    "        \"WEB\": \"web_search\",\n",
    "    }, \n",
    ")\n",
    "graph_builder.add_edge(\"retrieve_documents\", \"generate_rag_response\")\n",
    "graph_builder.add_edge(\"retrieve_documents\", END)\n",
    "graph_builder.add_edge(\"web_search\", END)\n",
    "\n",
    "graph = graph_builder.compile()"
   ]
  },
  {
   "cell_type": "code",
   "execution_count": 23,
   "id": "3dc0685d-28fe-4386-a2d9-d78e96efe452",
   "metadata": {},
   "outputs": [
    {
     "data": {
      "image/png": "[encoded data removed]",
      "text/plain": [
       "<IPython.core.display.Image object>"
      ]
     },
     "metadata": {},
     "output_type": "display_data"
    }
   ],
   "source": [
    "from IPython.display import Image, display\n",
    "\n",
    "display(Image(graph.get_graph().draw_mermaid_png()))"
   ]
  },
  {
   "cell_type": "code",
   "execution_count": 26,
   "id": "3a749535-6d10-4c63-a4ac-bce24fe605ef",
   "metadata": {},
   "outputs": [
    {
     "name": "stdout",
     "output_type": "stream",
     "text": [
      "web_results\n"
     ]
    }
   ],
   "source": [
    "response = graph.invoke({\"question\": \"What is HDFC's stock price today?\"})\n",
    "print(response[\"answer\"])"
   ]
  },
  {
   "cell_type": "code",
   "execution_count": 27,
   "id": "422fc9c3-3d1d-4451-ac48-f76d1d24e0c3",
   "metadata": {},
   "outputs": [
    {
     "name": "stdout",
     "output_type": "stream",
     "text": [
      "Here is the table format for the Premium Allocation Charges of HDFC Life Smart Protect Plan:\n",
      "\n",
      "| Policy Year      | AP < 2.5 Lacs (%) | AP >= 2.5 Lacs (%) |\n",
      "|------------------|--------------------|---------------------|\n",
      "| 1                | 12%                | 11%                 |\n",
      "| 2                | 6%                 | 5%                  |\n",
      "| 3                | 4%                 | 4%                  |\n",
      "| 4                | 3%                 | 3%                  |\n",
      "| 5 year onward    | 0%                 | 0%                  |\n",
      "\n",
      "- A Premium Allocation Charge of 2% is applicable on top-up Premiums.\n",
      "- The Premium Allocation Charge is capped at 12.5% of the annualized Premium in any year and is guaranteed for the entire duration of the Policy Term.\n"
     ]
    }
   ],
   "source": [
    "response = graph.invoke({\"question\": \"Provide Premium allocation charges in table format\"})\n",
    "print(response[\"answer\"])"
   ]
  },
  {
   "cell_type": "code",
   "execution_count": 31,
   "id": "f2d6a61c-027f-469c-b5a6-e9587928f219",
   "metadata": {},
   "outputs": [
    {
     "name": "stdout",
     "output_type": "stream",
     "text": [
      "RAGHere is the information regarding the Premium Allocation Charges for the HDFC Life Smart Protect Plan in a table format:\n",
      "\n",
      "| Policy Year          | Annualized Premium < ₹2.5 lacs | Annualized Premium ≥ ₹2.5 lacs |\n",
      "|---------------------|---------------------------------|---------------------------------|\n",
      "| 1                   | 12%                             | 11%                             |\n",
      "| 2                   | 6%                              | 5%                              |\n",
      "| 3                   | 4%                              | 4%                              |\n",
      "| 4                   | 3%                              | 3%                              |\n",
      "| 5 years onwards     | 0%                              | 0%                              |\n",
      "\n",
      "- A Premium Allocation Charge of 2% is applicable on top-up Premiums.\n",
      "- The Premium Allocation Charges are guaranteed for the entire duration of the Policy Term and are levied at the time of receipt of Premium."
     ]
    }
   ],
   "source": [
    "for message, metadata in graph.stream(\n",
    "    {\"question\": \"Provide Premium allocation charges in table format\"}, stream_mode=\"messages\"\n",
    "):\n",
    "    print(message.content, end=\"\")"
   ]
  },
  {
   "cell_type": "code",
   "execution_count": null,
   "id": "43d214ef-dfef-4bf5-9e94-dce416446cc1",
   "metadata": {},
   "outputs": [],
   "source": []
  },
  {
   "cell_type": "code",
   "execution_count": null,
   "id": "7c0f68d9-c525-4235-baaf-7811f985f748",
   "metadata": {},
   "outputs": [],
   "source": []
  },
  {
   "cell_type": "code",
   "execution_count": null,
   "id": "c3c7b1ef-07e2-4673-acb0-aa20a64d5476",
   "metadata": {},
   "outputs": [],
   "source": []
  },
  {
   "cell_type": "code",
   "execution_count": null,
   "id": "c0c60a66-d5dd-47cc-b8df-93104747b36b",
   "metadata": {},
   "outputs": [],
   "source": []
  },
  {
   "cell_type": "code",
   "execution_count": null,
   "id": "cf0cb69c-c5ba-4d45-a1c8-0fdf53acc2ae",
   "metadata": {},
   "outputs": [],
   "source": []
  },
  {
   "cell_type": "code",
   "execution_count": null,
   "id": "46ab21ae-b7e5-45d7-ae49-2ce0de0e0803",
   "metadata": {},
   "outputs": [],
   "source": []
  },
  {
   "cell_type": "code",
   "execution_count": null,
   "id": "0e2f422c-d2db-4a5e-8934-88aea17c1817",
   "metadata": {},
   "outputs": [],
   "source": []
  },
  {
   "cell_type": "code",
   "execution_count": null,
   "id": "41c36641-0a2d-4ded-9cb9-df1900da823e",
   "metadata": {},
   "outputs": [],
   "source": []
  }
 ],
 "metadata": {
  "kernelspec": {
   "display_name": "Python 3 (ipykernel)",
   "language": "python",
   "name": "python3"
  },
  "language_info": {
   "codemirror_mode": {
    "name": "ipython",
    "version": 3
   },
   "file_extension": ".py",
   "mimetype": "text/x-python",
   "name": "python",
   "nbconvert_exporter": "python",
   "pygments_lexer": "ipython3",
   "version": "3.12.3"
  }
 },
 "nbformat": 4,
 "nbformat_minor": 5
}
