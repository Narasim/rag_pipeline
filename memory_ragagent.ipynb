{
 "cells": [
  {
   "cell_type": "code",
   "execution_count": 1,
   "id": "fceed8e1-8144-4128-a882-967be40b63a0",
   "metadata": {},
   "outputs": [],
   "source": [
    "import getpass\n",
    "import os\n",
    "from dotenv import load_dotenv"
   ]
  },
  {
   "cell_type": "code",
   "execution_count": 2,
   "id": "4e6cb12a-0b15-47a3-afdf-eb43c073e067",
   "metadata": {},
   "outputs": [],
   "source": [
    "load_dotenv()\n",
    "\n",
    "if not os.environ.get(\"OPENAI_API_KEY\"):\n",
    "  os.environ[\"OPENAI_API_KEY\"] = getpass.getpass(\"Enter API key for OpenAI: \")\n",
    "\n",
    "from langchain.chat_models import init_chat_model\n",
    "\n",
    "llm = init_chat_model(\"gpt-4o-mini\", model_provider=\"openai\")"
   ]
  },
  {
   "cell_type": "code",
   "execution_count": 3,
   "id": "aaadb9d3-f75e-4bd3-bbe2-ca09e9b93e64",
   "metadata": {},
   "outputs": [
    {
     "data": {
      "text/plain": [
       "'Hello! How can I assist you today?'"
      ]
     },
     "execution_count": 3,
     "metadata": {},
     "output_type": "execute_result"
    }
   ],
   "source": [
    "llm.invoke(\"Hello\").content"
   ]
  },
  {
   "cell_type": "code",
   "execution_count": 4,
   "id": "8c12d0c0-2c17-419d-9e7b-bb83b9ad1537",
   "metadata": {},
   "outputs": [],
   "source": [
    "from langchain_openai import OpenAIEmbeddings\n",
    "\n",
    "embeddings = OpenAIEmbeddings(model=\"text-embedding-3-large\")"
   ]
  },
  {
   "cell_type": "code",
   "execution_count": 5,
   "id": "69153661-64bf-4a93-b859-cbfcbe809241",
   "metadata": {},
   "outputs": [],
   "source": [
    "from langchain_chroma import Chroma\n",
    "\n",
    "vector_store = Chroma(\n",
    "    collection_name=\"example_collection\",\n",
    "    embedding_function=embeddings,\n",
    "    persist_directory=\"./db\",  \n",
    ")"
   ]
  },
  {
   "cell_type": "code",
   "execution_count": 6,
   "id": "84418236-452f-46e3-af3e-5874a6f20462",
   "metadata": {},
   "outputs": [],
   "source": [
    "from langchain_community.document_loaders import PyMuPDFLoader\n",
    "from langchain_community.document_loaders import csv_loader\n",
    "from langchain_community.document_loaders import TextLoader\n",
    "pdf_docs_loaders = []\n",
    "text_docs_loaders = []\n",
    "\n",
    "data_directory = \"./assets\"\n",
    "file_list = os.listdir(data_directory)\n",
    "all_docs = []\n",
    "for file in file_list:\n",
    "    if str(file).endswith('.pdf'):\n",
    "        file_path = os.path.join(data_directory, file)\n",
    "        pdf_loader = PyMuPDFLoader(file_path)\n",
    "        pdf_docs_loaders.append(pdf_loader.load())\n",
    "    elif str(file).endswith(\".txt\"):\n",
    "        file_path = os.path.join(data_directory, file)\n",
    "        text_loader = TextLoader(file_path)\n",
    "        text_docs_loaders.append(text_loader.load())"
   ]
  },
  {
   "cell_type": "code",
   "execution_count": 7,
   "id": "14906e5b-a74a-4040-9cea-cef71f3fd230",
   "metadata": {},
   "outputs": [],
   "source": [
    "from langchain.text_splitter import RecursiveCharacterTextSplitter\n",
    "docs = []\n",
    "text_splitter = RecursiveCharacterTextSplitter(chunk_size = 1000, chunk_overlap = 200)\n",
    "for doc_loader in pdf_docs_loaders:\n",
    "    for doc in doc_loader:\n",
    "        docs.append(doc)\n",
    "for doc_loaders in text_docs_loaders:\n",
    "    for doc in doc_loaders:\n",
    "        docs.append(doc)\n",
    "docs = text_splitter.split_documents(documents = docs)"
   ]
  },
  {
   "cell_type": "code",
   "execution_count": 8,
   "id": "eee867a1-66fb-4c88-9673-49b3da6d5e7e",
   "metadata": {},
   "outputs": [
    {
     "data": {
      "text/plain": [
       "171"
      ]
     },
     "execution_count": 8,
     "metadata": {},
     "output_type": "execute_result"
    }
   ],
   "source": [
    "len(docs)"
   ]
  },
  {
   "cell_type": "code",
   "execution_count": 9,
   "id": "a51066e1-18d0-416f-963e-e5a1b269402d",
   "metadata": {},
   "outputs": [],
   "source": [
    "indices = vector_store.add_documents(documents = docs)"
   ]
  },
  {
   "cell_type": "code",
   "execution_count": 10,
   "id": "06d9978e-9864-4996-a3b8-50ae20add918",
   "metadata": {},
   "outputs": [],
   "source": [
    "from langchain_core.prompts import PromptTemplate\n",
    "base_model_prompt_template = PromptTemplate.from_template(\"\"\"\n",
    "        You are an expert in question answering regarding HDFC Life Smart Protect Plan.\n",
    "        You are given a query: {query} and its relevant information for answering.\n",
    "        relevant information :{similar_docs}\n",
    "        Answer the query with only relevant information.\n",
    "        Donot hallicunate, donot provide information beyond the context.\n",
    "        Make sure the response doesn't contain personal information such as names, contact and numbers.\n",
    "        Make sure not use any offensive words.\n",
    "\"\"\")"
   ]
  },
  {
   "cell_type": "code",
   "execution_count": 59,
   "id": "d53dca99-e440-4320-baa5-d7ecb081ec3b",
   "metadata": {},
   "outputs": [],
   "source": [
    "summarizer_llm = init_chat_model(\"gpt-4o-mini\", model_provider=\"openai\")\n",
    "summarizer_prompt = PromptTemplate.from_template(\"\"\"\n",
    "        You are an expert summarizer. You are given information regarding HDFC life insurance policy.\n",
    "        Content : {content}\n",
    "        Summarize the content such that it is helpful to reduce the context size for the language model.\n",
    "        Keep the summary most informative and use less number of words.         \n",
    "\"\"\")"
   ]
  },
  {
   "cell_type": "code",
   "execution_count": 168,
   "id": "1f6e592f-0a7e-4bf9-9386-b446770dc5eb",
   "metadata": {},
   "outputs": [],
   "source": [
    "from langgraph.graph import START, StateGraph\n",
    "from typing_extensions import List, TypedDict\n",
    "from langchain_core.documents import Document\n",
    "from langgraph.checkpoint.memory import InMemorySaver\n",
    "from typing import Annotated\n",
    "from operator import add\n",
    "\n",
    "class State(TypedDict):\n",
    "    question: str\n",
    "    context: Annotated[List[str], add]\n",
    "    answer: str\n",
    "\n",
    "def retrieve(state: State):\n",
    "    retrieved_docs = vector_store.similarity_search(state[\"question\"], k = 5)\n",
    "    print(\"init length\", len(state['context']))\n",
    "    if(len(state['context']) >= 10):\n",
    "        summ_docs = state['context'][:5]\n",
    "        summary_prompt = summarizer_prompt.invoke({'content': summ_docs})\n",
    "        summary = summarizer_llm.invoke(summary_prompt).content\n",
    "        print(f\"Summary Generated: {summary}\")\n",
    "        print(\"deleting context\")\n",
    "        del state['context'][0:5]\n",
    "        print(\"appending summary\")\n",
    "        print(\"after deleting 5 and adding 1, the length is\")\n",
    "        state['context'].append([summary])\n",
    "    docs_content = \"\\n\\n\".join(doc.page_content for doc in retrieved_docs)\n",
    "    print(len(state['context']))\n",
    "    return {\"context\": [docs_content]}\n",
    "\n",
    "def generate(state: State):\n",
    "    docs_content = [doc for doc in state[\"context\"]]\n",
    "    messages = base_model_prompt_template.invoke({\"query\": state[\"question\"], \"similar_docs\": docs_content})\n",
    "    response = llm.invoke(messages)\n",
    "    return {\"answer\": response.content}\n",
    "\n",
    "checkpointer = InMemorySaver()\n",
    "# Compile application and test\n",
    "graph_builder = StateGraph(State).add_sequence([retrieve, generate])\n",
    "graph_builder.add_edge(START, \"retrieve\")\n",
    "graph = graph_builder.compile(checkpointer=checkpointer)\n",
    "\n",
    "config = {\"configurable\": {\"thread_id\": \"1\"}}"
   ]
  },
  {
   "cell_type": "code",
   "execution_count": 61,
   "id": "3dc0685d-28fe-4386-a2d9-d78e96efe452",
   "metadata": {},
   "outputs": [
    {
     "data": {
      "image/png": "[encoded data removed]",
      "text/plain": [
       "<IPython.core.display.Image object>"
      ]
     },
     "metadata": {},
     "output_type": "display_data"
    }
   ],
   "source": [
    "from IPython.display import Image, display\n",
    "\n",
    "display(Image(graph.get_graph().draw_mermaid_png()))"
   ]
  },
  {
   "cell_type": "code",
   "execution_count": 184,
   "id": "13c19d89-ab65-4f82-84a9-f1c8005e7ff6",
   "metadata": {},
   "outputs": [
    {
     "name": "stdout",
     "output_type": "stream",
     "text": [
      "init length 11\n",
      "Summary Generated: The provided content includes multiple mentions of HDFC Life Insurance and its Smart Protect Plan Policy Document. Key points include:\n",
      "\n",
      "1. **Contact Information**: For grievances, refer to Part G; dissatisfied customers may contact the Insurance Ombudsman. You can reach HDFC Life at toll-free number 1800 266 9777 or via email at onlinequery@hdfclife.in.\n",
      "\n",
      "2. **Social Media Links**: Follow HDFC Life on YouTube, LinkedIn, Twitter, and Facebook for updates and information.\n",
      "\n",
      "3. **Correspondence**: Always quote your policy number in future communications. For more information about products and services, consult your Certified Financial Consultant (Insurance Agent).\n",
      "\n",
      "4. **Policy Document Details**: The policy covers proportionate risk premium and associated medical examination and stamp duty charges.\n",
      "\n",
      "The content primarily emphasizes customer support and engagement channels, ensuring clients know how to communicate effectively with HDFC Life.\n",
      "deleting context\n",
      "appending summary\n",
      "after deleting 5 and adding 1, the length is\n",
      "7\n",
      "HDFC stands for \"Housing Development Finance Corporation.\"\n"
     ]
    }
   ],
   "source": [
    "response = graph.invoke({\"question\": \"What is HDFC full form?\"}, config)\n",
    "print(response[\"answer\"])"
   ]
  },
  {
   "cell_type": "code",
   "execution_count": 126,
   "id": "3a749535-6d10-4c63-a4ac-bce24fe605ef",
   "metadata": {},
   "outputs": [
    {
     "data": {
      "text/plain": [
       "'Part E \\n(Charges) \\n \\n1. Charges \\nAll the below charges are exclusive of applicable taxes and other statutory levies, if any \\n(1) Premium Allocation Charge: \\nThis charge is a percentage of the Premium appropriated towards charges from the Premium received. The \\nbalance amount known as allocation rate constitutes that part of Premium which is utilized to purchase the \\nunits of the fund in the policy. This is a charge levied at the time of receipt of Premium. The Premium \\nallocation charge is capped at 12.5% of annualized Premium in any year. \\n \\nPremium Allocation Charge as below will be deducted from the Premiums. The net Premiums after \\ndeduction of charges are invested in Funds as per your choice. \\nThe Premium allocation charge (% of AP) is as given below: \\n \\nPolicy Year \\nAP < 2.5 lacs  \\nAP >= 2.5 \\nlacs \\n1 \\n12% \\n11% \\n2 \\n6% \\n5% \\n3 \\n4% \\n4% \\n4 \\n3% \\n3% \\n5 year \\nonwards \\n0% \\n0% \\n \\nPremium allocation charge of 2% shall be levied on top-up Premiums. \\nWhere, \\nAP – Annualised Premium\\n\\nPart E \\n(Charges) \\n \\n1. Charges \\nAll the below charges are exclusive of applicable taxes and other statutory levies, if any \\n(1) Premium Allocation Charge: \\nThis charge is a percentage of the Premium appropriated towards charges from the Premium received. The \\nbalance amount known as allocation rate constitutes that part of Premium which is utilized to purchase the \\nunits of the fund in the policy. This is a charge levied at the time of receipt of Premium. The Premium \\nallocation charge is capped at 12.5% of annualized Premium in any year. \\n \\nPremium Allocation Charge as below will be deducted from the Premiums. The net Premiums after \\ndeduction of charges are invested in Funds as per your choice. \\nThe Premium allocation charge (% of AP) is as given below: \\n \\nPolicy Year \\nAP < 2.5 lacs  \\nAP >= 2.5 \\nlacs \\n1 \\n12% \\n11% \\n2 \\n6% \\n5% \\n3 \\n4% \\n4% \\n4 \\n3% \\n3% \\n5 year \\nonwards \\n0% \\n0% \\n \\nPremium allocation charge of 2% shall be levied on top-up Premiums. \\nWhere, \\nAP – Annualised Premium\\n\\nAP >= 2.5 \\nlacs \\n1 \\n12% \\n11% \\n2 \\n6% \\n5% \\n3 \\n4% \\n4% \\n4 \\n3% \\n3% \\n5 year \\nonwards \\n0% \\n0% \\n \\nPremium allocation charge of 2% shall be levied on top-up Premiums. \\nWhere, \\nAP – Annualised Premium \\n \\nThe Premium allocation charges are guaranteed for the entire duration of the Policy Term and shall be \\nlevied at the time of receipt of Premium.  \\n \\n(2) Policy Administration Charge: \\n \\nThis charge shall represent the expenses other than those covered by Premium allocation charges and the \\nfund management charge. This charge is levied at the beginning of each policy month from the unit fund \\nby cancelling units for equivalent amount. \\n \\nFrom 5th policy year onwards, a Policy Administration Charge of 0.32% per month of the annualised \\nPremium increasing at 5% per annum on each policy anniversary. \\nThis charge is subject to a maximum of Rs.500 per month. \\n \\nThis charge is guaranteed for the entire duration of the Policy Term and will be deducted by cancelling\\n\\nAP >= 2.5 \\nlacs \\n1 \\n12% \\n11% \\n2 \\n6% \\n5% \\n3 \\n4% \\n4% \\n4 \\n3% \\n3% \\n5 year \\nonwards \\n0% \\n0% \\n \\nPremium allocation charge of 2% shall be levied on top-up Premiums. \\nWhere, \\nAP – Annualised Premium \\n \\nThe Premium allocation charges are guaranteed for the entire duration of the Policy Term and shall be \\nlevied at the time of receipt of Premium.  \\n \\n(2) Policy Administration Charge: \\n \\nThis charge shall represent the expenses other than those covered by Premium allocation charges and the \\nfund management charge. This charge is levied at the beginning of each policy month from the unit fund \\nby cancelling units for equivalent amount. \\n \\nFrom 5th policy year onwards, a Policy Administration Charge of 0.32% per month of the annualised \\nPremium increasing at 5% per annum on each policy anniversary. \\nThis charge is subject to a maximum of Rs.500 per month. \\n \\nThis charge is guaranteed for the entire duration of the Policy Term and will be deducted by cancelling\\n\\n(excluding underwriting extra Premium and taxes), deducted in the month which is 120 months \\nprior shall be added to the fund.  \\n• Example:2 times of the mortality charge deducted in the first policy month shall be added back in \\nthe 121st month,2 times of the mortality charge deducted in the second policy month shall be added \\nback in the 122nd month and so on until the end of the policy term. \\n• The multiplefor return of mortality charge would vary depending on the policy year and is as given \\nbelow: \\nPolicy \\nYear \\nReturn of \\nMortality \\nCharge \\nMultiple \\n11 to \\n24 \\n2X \\n25 to \\n40 \\n3X \\n \\n• This shall continue until end of the Policy Term and does not include the settlement period.  \\n \\nb.) Return of 2X Premium Allocation Charge \\n• 2 times the total Premium Allocation Charges (excluding taxes), shall be added back in the form of \\nallocation of extra units.  \\n• The addition will happen at the end of each of the policy years between 10 to 13 years. Example:2'"
      ]
     },
     "execution_count": 126,
     "metadata": {},
     "output_type": "execute_result"
    }
   ],
   "source": [
    "response['context'][0]"
   ]
  },
  {
   "cell_type": "code",
   "execution_count": null,
   "id": "ba5f2746-461c-4a6e-87ac-cfa9a97d9147",
   "metadata": {},
   "outputs": [],
   "source": []
  },
  {
   "cell_type": "code",
   "execution_count": 24,
   "id": "6fcc960a-b003-4ce9-97e0-530477d86272",
   "metadata": {},
   "outputs": [
    {
     "name": "stdout",
     "output_type": "stream",
     "text": [
      "Here is the information regarding the Premium Allocation Charges for the HDFC Life Smart Protect Plan in table format:\n",
      "\n",
      "| Policy Year         | Annualized Premium < 2.5 lacs | Annualized Premium >= 2.5 lacs |\n",
      "|---------------------|-------------------------------|--------------------------------|\n",
      "| 1                   | 12%                           | 11%                            |\n",
      "| 2                   | 6%                            | 5%                             |\n",
      "| 3                   | 4%                            | 4%                             |\n",
      "| 4                   | 3%                            | 3%                             |\n",
      "| 5 years onwards     | 0%                            | 0%                             |\n",
      "\n",
      "- A premium allocation charge of 2% shall be levied on top-up premiums.\n",
      "- The premium allocation charges are guaranteed for the entire duration of the policy term and shall be levied at the time of receipt of premium.\n"
     ]
    }
   ],
   "source": [
    "response = graph.invoke({\"question\": \"Provide Premium allocation charges in table format\"}, config)\n",
    "print(response[\"answer\"])"
   ]
  },
  {
   "cell_type": "code",
   "execution_count": 29,
   "id": "422fc9c3-3d1d-4451-ac48-f76d1d24e0c3",
   "metadata": {},
   "outputs": [
    {
     "name": "stdout",
     "output_type": "stream",
     "text": [
      "### Premium Allocation Charges for HDFC Life Smart Protect Plan\n",
      "\n",
      "| Policy Year      | AP < 2.5 lacs | AP >= 2.5 lacs |\n",
      "|------------------|---------------|----------------|\n",
      "| 1                | 12%           | 11%            |\n",
      "| 2                | 6%            | 5%             |\n",
      "| 3                | 4%            | 4%             |\n",
      "| 4                | 3%            | 3%             |\n",
      "| 5 year onwards   | 0%            | 0%             |\n",
      "\n",
      "- **Top-up Premiums**: A Premium allocation charge of 2% will be levied on top-up Premiums.\n",
      "- **Capping**: The Premium allocation charge is capped at 12.5% of annualized Premium in any year.\n",
      "- **Guaranteed Charges**: The Premium allocation charges are guaranteed for the entire duration of the Policy Term and shall be levied at the time of receipt of Premium.\n"
     ]
    }
   ],
   "source": [
    "response = graph.invoke({\"question\": \"Provide Premium allocation charges in table format\"}, config)\n",
    "print(response['answer'])"
   ]
  },
  {
   "cell_type": "code",
   "execution_count": 65,
   "id": "f2d6a61c-027f-469c-b5a6-e9587928f219",
   "metadata": {},
   "outputs": [
    {
     "name": "stdout",
     "output_type": "stream",
     "text": [
      "{'question': 'Provide Premium allocation charges in table format', 'context': 'Part E \\n(Charges) \\n \\n1. Charges \\nAll the below charges are exclusive of applicable taxes and other statutory levies, if any \\n(1) Premium Allocation Charge: \\nThis charge is a percentage of the Premium appropriated towards charges from the Premium received. The \\nbalance amount known as allocation rate constitutes that part of Premium which is utilized to purchase the \\nunits of the fund in the policy. This is a charge levied at the time of receipt of Premium. The Premium \\nallocation charge is capped at 12.5% of annualized Premium in any year. \\n \\nPremium Allocation Charge as below will be deducted from the Premiums. The net Premiums after \\ndeduction of charges are invested in Funds as per your choice. \\nThe Premium allocation charge (% of AP) is as given below: \\n \\nPolicy Year \\nAP < 2.5 lacs  \\nAP >= 2.5 \\nlacs \\n1 \\n12% \\n11% \\n2 \\n6% \\n5% \\n3 \\n4% \\n4% \\n4 \\n3% \\n3% \\n5 year \\nonwards \\n0% \\n0% \\n \\nPremium allocation charge of 2% shall be levied on top-up Premiums. \\nWhere, \\nAP – Annualised Premium\\n\\nPart E \\n(Charges) \\n \\n1. Charges \\nAll the below charges are exclusive of applicable taxes and other statutory levies, if any \\n(1) Premium Allocation Charge: \\nThis charge is a percentage of the Premium appropriated towards charges from the Premium received. The \\nbalance amount known as allocation rate constitutes that part of Premium which is utilized to purchase the \\nunits of the fund in the policy. This is a charge levied at the time of receipt of Premium. The Premium \\nallocation charge is capped at 12.5% of annualized Premium in any year. \\n \\nPremium Allocation Charge as below will be deducted from the Premiums. The net Premiums after \\ndeduction of charges are invested in Funds as per your choice. \\nThe Premium allocation charge (% of AP) is as given below: \\n \\nPolicy Year \\nAP < 2.5 lacs  \\nAP >= 2.5 \\nlacs \\n1 \\n12% \\n11% \\n2 \\n6% \\n5% \\n3 \\n4% \\n4% \\n4 \\n3% \\n3% \\n5 year \\nonwards \\n0% \\n0% \\n \\nPremium allocation charge of 2% shall be levied on top-up Premiums. \\nWhere, \\nAP – Annualised Premium\\n\\nAP >= 2.5 \\nlacs \\n1 \\n12% \\n11% \\n2 \\n6% \\n5% \\n3 \\n4% \\n4% \\n4 \\n3% \\n3% \\n5 year \\nonwards \\n0% \\n0% \\n \\nPremium allocation charge of 2% shall be levied on top-up Premiums. \\nWhere, \\nAP – Annualised Premium \\n \\nThe Premium allocation charges are guaranteed for the entire duration of the Policy Term and shall be \\nlevied at the time of receipt of Premium.  \\n \\n(2) Policy Administration Charge: \\n \\nThis charge shall represent the expenses other than those covered by Premium allocation charges and the \\nfund management charge. This charge is levied at the beginning of each policy month from the unit fund \\nby cancelling units for equivalent amount. \\n \\nFrom 5th policy year onwards, a Policy Administration Charge of 0.32% per month of the annualised \\nPremium increasing at 5% per annum on each policy anniversary. \\nThis charge is subject to a maximum of Rs.500 per month. \\n \\nThis charge is guaranteed for the entire duration of the Policy Term and will be deducted by cancelling\\n\\nAP >= 2.5 \\nlacs \\n1 \\n12% \\n11% \\n2 \\n6% \\n5% \\n3 \\n4% \\n4% \\n4 \\n3% \\n3% \\n5 year \\nonwards \\n0% \\n0% \\n \\nPremium allocation charge of 2% shall be levied on top-up Premiums. \\nWhere, \\nAP – Annualised Premium \\n \\nThe Premium allocation charges are guaranteed for the entire duration of the Policy Term and shall be \\nlevied at the time of receipt of Premium.  \\n \\n(2) Policy Administration Charge: \\n \\nThis charge shall represent the expenses other than those covered by Premium allocation charges and the \\nfund management charge. This charge is levied at the beginning of each policy month from the unit fund \\nby cancelling units for equivalent amount. \\n \\nFrom 5th policy year onwards, a Policy Administration Charge of 0.32% per month of the annualised \\nPremium increasing at 5% per annum on each policy anniversary. \\nThis charge is subject to a maximum of Rs.500 per month. \\n \\nThis charge is guaranteed for the entire duration of the Policy Term and will be deducted by cancelling\\n\\n(excluding underwriting extra Premium and taxes), deducted in the month which is 120 months \\nprior shall be added to the fund.  \\n• Example:2 times of the mortality charge deducted in the first policy month shall be added back in \\nthe 121st month,2 times of the mortality charge deducted in the second policy month shall be added \\nback in the 122nd month and so on until the end of the policy term. \\n• The multiplefor return of mortality charge would vary depending on the policy year and is as given \\nbelow: \\nPolicy \\nYear \\nReturn of \\nMortality \\nCharge \\nMultiple \\n11 to \\n24 \\n2X \\n25 to \\n40 \\n3X \\n \\n• This shall continue until end of the Policy Term and does not include the settlement period.  \\n \\nb.) Return of 2X Premium Allocation Charge \\n• 2 times the total Premium Allocation Charges (excluding taxes), shall be added back in the form of \\nallocation of extra units.  \\n• The addition will happen at the end of each of the policy years between 10 to 13 years. Example:2', 'answer': 'Here is the information regarding Premium Allocation Charges in table format for the HDFC Life Smart Protect Plan:\\n\\n| Policy Year                   | AP < 2.5 Lacs | AP >= 2.5 Lacs |\\n|-------------------------------|---------------|----------------|\\n| 1                             | 12%           | 11%            |\\n| 2                             | 6%            | 5%             |\\n| 3                             | 4%            | 4%             |\\n| 4                             | 4%            | 4%             |\\n| 5 onward                      | 0%            | 0%             |\\n\\n**Notes:**\\n- AP refers to the Annualized Premium.\\n- Premium allocation charge of 2% shall be levied on top-up premiums. \\n- The charges are exclusive of applicable taxes and other statutory levies.\\n- Premium allocation charges are capped at 12.5% of annualized premium in any year.'}\n",
      "()\n",
      "{'configurable': {'thread_id': '1', 'checkpoint_ns': '', 'checkpoint_id': '1f09fb11-e833-6292-8002-5e8131205a5a'}}\n",
      "{'source': 'loop', 'step': 2, 'parents': {}}\n",
      "2025-10-02T16:59:11.842655+00:00\n",
      "{'configurable': {'thread_id': '1', 'checkpoint_ns': '', 'checkpoint_id': '1f09fb11-9cf8-62ab-8001-e889d3a5e1b4'}}\n",
      "()\n",
      "()\n"
     ]
    }
   ],
   "source": [
    "for doc in graph.get_state(config):\n",
    "    print(doc)"
   ]
  },
  {
   "cell_type": "code",
   "execution_count": 42,
   "id": "43d214ef-dfef-4bf5-9e94-dce416446cc1",
   "metadata": {},
   "outputs": [
    {
     "data": {
      "text/plain": [
       "(44, list)"
      ]
     },
     "execution_count": 42,
     "metadata": {},
     "output_type": "execute_result"
    }
   ],
   "source": [
    "len(response['context']), type(response['context'])"
   ]
  },
  {
   "cell_type": "code",
   "execution_count": null,
   "id": "7c0f68d9-c525-4235-baaf-7811f985f748",
   "metadata": {},
   "outputs": [],
   "source": []
  },
  {
   "cell_type": "code",
   "execution_count": null,
   "id": "c3c7b1ef-07e2-4673-acb0-aa20a64d5476",
   "metadata": {},
   "outputs": [],
   "source": []
  },
  {
   "cell_type": "code",
   "execution_count": null,
   "id": "c0c60a66-d5dd-47cc-b8df-93104747b36b",
   "metadata": {},
   "outputs": [],
   "source": []
  },
  {
   "cell_type": "code",
   "execution_count": null,
   "id": "cf0cb69c-c5ba-4d45-a1c8-0fdf53acc2ae",
   "metadata": {},
   "outputs": [],
   "source": []
  },
  {
   "cell_type": "code",
   "execution_count": null,
   "id": "46ab21ae-b7e5-45d7-ae49-2ce0de0e0803",
   "metadata": {},
   "outputs": [],
   "source": []
  },
  {
   "cell_type": "code",
   "execution_count": null,
   "id": "0e2f422c-d2db-4a5e-8934-88aea17c1817",
   "metadata": {},
   "outputs": [],
   "source": []
  },
  {
   "cell_type": "code",
   "execution_count": null,
   "id": "41c36641-0a2d-4ded-9cb9-df1900da823e",
   "metadata": {},
   "outputs": [],
   "source": []
  }
 ],
 "metadata": {
  "kernelspec": {
   "display_name": "Python 3 (ipykernel)",
   "language": "python",
   "name": "python3"
  },
  "language_info": {
   "codemirror_mode": {
    "name": "ipython",
    "version": 3
   },
   "file_extension": ".py",
   "mimetype": "text/x-python",
   "name": "python",
   "nbconvert_exporter": "python",
   "pygments_lexer": "ipython3",
   "version": "3.12.3"
  }
 },
 "nbformat": 4,
 "nbformat_minor": 5
}
